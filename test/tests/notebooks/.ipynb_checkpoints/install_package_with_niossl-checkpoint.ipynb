{
 "cells": [
  {
   "cell_type": "code",
   "execution_count": 1,
   "metadata": {},
   "outputs": [
    {
     "name": "stdout",
     "output_type": "stream",
     "text": [
      "Installing packages:\n",
      "\t.package(path: \"/home/shuyi/cuda/swift-jupyter/test/tests/notebooks/PackageWithC\")\n",
      "\t\tPackageWithC\n",
      "With SwiftPM flags: ['-Xcc', '-DMACRO_DEFINED_IN_COMPILER_FLAG=1337']\n",
      "Working in: /tmp/tmpd6xgfuvw/swift-install\n",
      "[1/5] Compiling LibWithC sillydefine.c\n",
      "[2/5] Compiling PackageWithC2 sillyfunction2.c\n",
      "[3/5] Compiling PackageWithC1 sillyfunction1.c\n",
      "[4/6] Compiling jupyterInstalledPackages jupyterInstalledPackages.swift\n",
      "[5/7] Merging module jupyterInstalledPackages\n",
      "[6/7] Wrapping AST for jupyterInstalledPackages for debugging\n",
      "[7/7] Linking libjupyterInstalledPackages.so\n",
      "Initializing Swift...\n",
      "Installation complete!\n"
     ]
    }
   ],
   "source": [
    "%install-swiftpm-flags -Xcc -DMACRO_DEFINED_IN_COMPILER_FLAG=1337\n",
    "%install '.package(path: \"$cwd/PackageWithC\")' PackageWithC"
   ]
  },
  {
   "cell_type": "code",
   "execution_count": 2,
   "metadata": {},
   "outputs": [
    {
     "ename": "",
     "evalue": "",
     "output_type": "error",
     "traceback": [
      "expression failed to parse, unknown error"
     ]
    }
   ],
   "source": [
    "import PackageWithC1\n",
    "import PackageWithC2"
   ]
  },
  {
   "cell_type": "code",
   "execution_count": null,
   "metadata": {},
   "outputs": [],
   "source": [
    "print(sillyfunction1())"
   ]
  },
  {
   "cell_type": "code",
   "execution_count": null,
   "metadata": {},
   "outputs": [],
   "source": [
    "print(sillyfunction2())"
   ]
  }
 ],
 "metadata": {
  "kernelspec": {
   "display_name": "Swift",
   "language": "swift",
   "name": "swift"
  },
  "language_info": {
   "file_extension": ".swift",
   "mimetype": "text/x-swift",
   "name": "swift",
   "version": ""
  }
 },
 "nbformat": 4,
 "nbformat_minor": 2
}
