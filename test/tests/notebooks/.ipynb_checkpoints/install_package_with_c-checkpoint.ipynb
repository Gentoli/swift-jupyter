{
 "cells": [
  {
   "cell_type": "code",
   "execution_count": 1,
   "metadata": {},
   "outputs": [
    {
     "name": "stdout",
     "output_type": "stream",
     "text": [
      "Installing packages:\n",
      "\t.package(path: \"/home/shuyi/cuda/swift-jupyter/test/tests/notebooks/PackageWithC\")\n",
      "\t\tPackageWithC1\n",
      "With SwiftPM flags: ['-Xcc', '-DMACRO_DEFINED_IN_COMPILER_FLAG=1337']\n",
      "Working in: /tmp/tmpoanr3_kn/swift-install\n",
      "'jupyterInstalledPackages' /tmp/tmpoanr3_kn/swift-install/package: error: product 'PackageWithC1' not found. It is required by target 'jupyterInstalledPackages'.\n",
      "warning: dependency 'PackageWithC' is not used by any target\n"
     ]
    },
    {
     "ename": "",
     "evalue": "",
     "output_type": "error",
     "traceback": [
      "Install Error: swift-build returned nonzero exit code 1."
     ]
    }
   ],
   "source": [
    "%install-swiftpm-flags -Xcc -DMACRO_DEFINED_IN_COMPILER_FLAG=1337\n",
    "%install '.package(path: \"$cwd/PackageWithC\")' PackageWithC"
   ]
  },
  {
   "cell_type": "code",
   "execution_count": 2,
   "metadata": {},
   "outputs": [
    {
     "ename": "",
     "evalue": "",
     "output_type": "error",
     "traceback": [
      "expression failed to parse, unknown error"
     ]
    }
   ],
   "source": [
    "import PackageWithC1\n",
    "import PackageWithC2"
   ]
  },
  {
   "cell_type": "code",
   "execution_count": null,
   "metadata": {},
   "outputs": [],
   "source": [
    "print(sillyfunction1())"
   ]
  },
  {
   "cell_type": "code",
   "execution_count": null,
   "metadata": {},
   "outputs": [],
   "source": [
    "print(sillyfunction2())"
   ]
  }
 ],
 "metadata": {
  "kernelspec": {
   "display_name": "Swift",
   "language": "swift",
   "name": "swift"
  },
  "language_info": {
   "file_extension": ".swift",
   "mimetype": "text/x-swift",
   "name": "swift",
   "version": ""
  }
 },
 "nbformat": 4,
 "nbformat_minor": 2
}
